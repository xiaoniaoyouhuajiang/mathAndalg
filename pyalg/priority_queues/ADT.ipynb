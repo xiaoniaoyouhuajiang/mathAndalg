{
 "metadata": {
  "language_info": {
   "codemirror_mode": {
    "name": "ipython",
    "version": 3
   },
   "file_extension": ".py",
   "mimetype": "text/x-python",
   "name": "python",
   "nbconvert_exporter": "python",
   "pygments_lexer": "ipython3",
   "version": 3
  },
  "orig_nbformat": 2
 },
 "nbformat": 4,
 "nbformat_minor": 2,
 "cells": [
  {
   "source": [
    "# the priority queue adt\n",
    "我们首先设定每一个元素和他的优先级构成一个键值对，并设定一个优先级队列P，我们给出P对应的方法列表如下：\n",
    "* P.add(k, v):插入\n",
    "* P.min():返回一个元组（键值对），返回的是键值最小的键值对\n",
    "* P.remove_min():从优先级队列中删除最小键值的项，同时返回该项\n",
    "* P.is_empty():略\n",
    "* len(P):返回队列的项数\n",
    "\n"
   ],
   "cell_type": "markdown",
   "metadata": {}
  },
  {
   "source": [
    "## binary heap\n",
    "二叉堆算是一种优先级队列，而且是一种效率较高的优先级队列。插入和删除的时间复杂度都是对数级别的，这比基于数组的优先级队列要快。这主要是因为堆使用了二叉树查找的机制。二叉堆有最大堆和最小堆，我们以最小堆为研究对象，最大堆的性质往往和最小堆具有对称性，因为他们满足两个基本特性：\n",
    "最小堆：\n",
    "* 递归地，每一课二叉树的根节点一定是三个节点中最小的。\n",
    "* 完全二叉树性质，高度为h的二叉堆的前h-1(0-h-1)层节点都是满二叉树（i层有2^i个节点），而后h层的节点则是尽可能靠左。\n",
    "\n",
    "由上述性质，不难得到一个存储n个节点的堆T的高度一定为 h = ⌊logn⌋（注意根节点算是第0层）"
   ],
   "cell_type": "markdown",
   "metadata": {}
  },
  {
   "source": [
    "### Array-Based Binary Tree\n",
    "完全二叉树非常适合用数组来实现，数组索引对应于树的节点，有以下相应的规则（设f: p -> index）：\n",
    "* 如果节点p是根节点，那么f(p) = 0\n",
    "* 如果p是q的左子树，那么f(p) = 2f(q) + 1\n",
    "* 如果p是q的右子树，那么f(p) = 2f(q) + 2\n"
   ],
   "cell_type": "markdown",
   "metadata": {}
  },
  {
   "cell_type": "code",
   "execution_count": null,
   "metadata": {},
   "outputs": [],
   "source": []
  }
 ]
}