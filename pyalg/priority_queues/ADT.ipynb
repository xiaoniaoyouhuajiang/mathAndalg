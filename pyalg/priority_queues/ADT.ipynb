{
 "metadata": {
  "language_info": {
   "codemirror_mode": {
    "name": "ipython",
    "version": 3
   },
   "file_extension": ".py",
   "mimetype": "text/x-python",
   "name": "python",
   "nbconvert_exporter": "python",
   "pygments_lexer": "ipython3",
   "version": 3
  },
  "orig_nbformat": 2
 },
 "nbformat": 4,
 "nbformat_minor": 2,
 "cells": [
  {
   "source": [
    "# the priority queue adt\n",
    "我们首先设定每一个元素和他的优先级构成一个键值对，并设定一个优先级队列P，我们给出P对应的方法列表如下：\n",
    "* P.add(k, v):插入\n",
    "* P.min():返回一个元组（键值对），返回的是键值最小的键值对\n",
    "* P.remove_min():从优先级队列中删除最小键值的项，同时返回该项\n",
    "* P.is_empty():略\n",
    "* len(P):返回队列的项数\n",
    "\n"
   ],
   "cell_type": "markdown",
   "metadata": {}
  },
  {
   "cell_type": "code",
   "execution_count": null,
   "metadata": {},
   "outputs": [],
   "source": []
  }
 ]
}