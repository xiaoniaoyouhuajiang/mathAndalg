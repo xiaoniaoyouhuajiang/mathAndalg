{
 "metadata": {
  "language_info": {
   "codemirror_mode": {
    "name": "ipython",
    "version": 3
   },
   "file_extension": ".py",
   "mimetype": "text/x-python",
   "name": "python",
   "nbconvert_exporter": "python",
   "pygments_lexer": "ipython3",
   "version": 3
  },
  "orig_nbformat": 2
 },
 "nbformat": 4,
 "nbformat_minor": 2,
 "cells": [
  {
   "source": [
    "# Linked Lists\n",
    "Python内置的数据结构list也有一些缺点：\n",
    "* 动态数组(dynamic array)的长度比数据结构所存储的元素更多\n",
    "* Amortized bounds在实时系统中的使用是有问题的\n",
    "* 内部位置的插入与删除往往需要付出较高的代价\n",
    "\n",
    "\n"
   ],
   "cell_type": "markdown",
   "metadata": {}
  },
  {
   "source": [
    "## LinkedStack\n",
    "用LinkedList作为底层结构实现的栈，见Stack.py\n",
    "下面分析复杂度\n",
    "* S.push(e): O(1)\n",
    "* S.pop():O(1)\n",
    "* S.top():O(1)\n",
    "* len(S):O(1)\n",
    "* S.is_empty():O(1)\n",
    "\n"
   ],
   "cell_type": "markdown",
   "metadata": {}
  },
  {
   "source": [
    "## Circularly Linked Lists\n",
    "循环链表，很容易去想象他的结构：尾指针指向头节点。\n",
    "我们以一个例子--Round-Robin Schedulers（循环调度器）来学习该结构，CPU的并行程序的调度就常用到这种调度方法。\n",
    "调度的常规流程如下：\n",
    "* 1.e = Q.dequeue()\n",
    "* 2.e元素（进程）进行工作\n",
    "* 3.Q.enqueue(e)\n",
    "\n",
    "而如果使用循环链表作为该调度器的实现数据结构，我们可以实现rotate方法使一个队列“右移”，那么调度流程便可简化为：\n",
    "* 1.Q.front()元素进行工作\n",
    "* 2.Q.rotate()\n",
    "\n"
   ],
   "cell_type": "markdown",
   "metadata": {}
  },
  {
   "source": [
    "## Doubly Linked Lists\n",
    "假如我们现在需要从单链表中删除指定位置的item，因为我们只有head是容易锁定的，任意位置的元素需要我们用不断next方法找到该节点的地址。实现一种能够对当前节点的前项和后向节点都提供引用的链表——即双链表，可以让我们在常数时间内进行上述操作。\n",
    "\n",
    "为了避免在双链表的边界操作时出现意外状况，在表中实现两个特殊的节点是很有必要的：\"header\"以及\"trailer\"分别是链表的头部以及尾部，这两个特殊的节点又被称为哨兵，他们并不存储主序列的元素。\n",
    "\n",
    "之所以要给哨兵留出额外的存储空间，是因为这样能大幅简化操作所需的逻辑。不管是删除还是增加节点，我们只要考虑该节点两边的节点的引用关系即可，而不用向之前单链表那样去考虑表空的时候的状况作为一种特殊情形。"
   ],
   "cell_type": "markdown",
   "metadata": {}
  },
  {
   "source": [
    "## Positional List \n",
    "想要随意地对数据结构中的不同位置元素进行访问，我们需要可定位的数组，那么我们应该如何实现这一数据抽象呢，下面来定义相关ADT。首先我们需要为P（position）定义相关的ADT：\n",
    "* p.element():返回位置P中存储的元素。而在postional list的ADT上下文中，p充当的一些方法的参数的位置：\n",
    "* L.first()\n",
    "* L.last()\n",
    "* L.before(p)\n",
    "* L.after(p) -> (这个方法以及上一个方法返回的是p对象)\n",
    "* L.is_empty()\n",
    "* len(L)\n",
    "* iter(L):返回一个前向遍历迭代器\n",
    "* L.add_first(e)\n",
    "* L.add_last(e)\n",
    "* L.add_before(p, e)\n",
    "* L.add_after(p, e)\n",
    "* L.replace(p, e)\n",
    "* L.delete(p):移除并返回p位置的元素\n",
    "\n",
    "\n"
   ],
   "cell_type": "markdown",
   "metadata": {}
  }
 ]
}