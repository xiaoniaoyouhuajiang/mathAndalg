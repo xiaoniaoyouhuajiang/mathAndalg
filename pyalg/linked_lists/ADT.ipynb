{
 "metadata": {
  "language_info": {
   "codemirror_mode": {
    "name": "ipython",
    "version": 3
   },
   "file_extension": ".py",
   "mimetype": "text/x-python",
   "name": "python",
   "nbconvert_exporter": "python",
   "pygments_lexer": "ipython3",
   "version": 3
  },
  "orig_nbformat": 2
 },
 "nbformat": 4,
 "nbformat_minor": 2,
 "cells": [
  {
   "source": [
    "# Linked Lists\n",
    "Python内置的数据结构list也有一些缺点：\n",
    "* 动态数组(dynamic array)的长度比数据结构所存储的元素更多\n",
    "* Amortized bounds在实时系统中的使用是有问题的\n",
    "* 内部位置的插入与删除往往需要付出较高的代价\n",
    "\n",
    "\n"
   ],
   "cell_type": "markdown",
   "metadata": {}
  },
  {
   "source": [
    "## LinkedStack\n",
    "用LinkedList作为底层结构实现的栈，见Stack.py\n",
    "下面分析复杂度\n",
    "* S.push(e): O(1)\n",
    "* S.pop():O(1)\n",
    "* S.top():O(1)\n",
    "* len(S):O(1)\n",
    "* S.is_empty():O(1)\n",
    "\n"
   ],
   "cell_type": "markdown",
   "metadata": {}
  },
  {
   "source": [
    "## Circularly Linked Lists\n",
    "循环链表，很容易去想象他的结构：尾指针指向头节点。\n",
    "我们以一个例子--Round-Robin Schedulers（循环调度器）来学习该结构，CPU的并行程序的调度就常用到这种调度方法。\n",
    "调度的常规流程如下：\n",
    "* 1.e = Q.dequeue()\n",
    "* 2.e元素（进程）进行工作\n",
    "* 3.Q.enqueue(e)\n",
    "\n",
    "而如果使用循环链表作为该调度器的实现数据结构，我们可以实现rotate方法使一个队列“右移”，那么调度流程便可简化为：\n",
    "* 1.Q.front()元素进行工作\n",
    "* 2.Q.rotate()\n",
    "\n"
   ],
   "cell_type": "markdown",
   "metadata": {}
  },
  {
   "source": [
    "## Doubly Linked Lists\n",
    "假如我们现在需要从单链表中删除指定位置的item，因为我们只有head是容易锁定的，任意位置的元素需要我们用不断next方法找到该节点的地址。实现一种能够对当前节点的前项和后向节点都提供引用的链表——即双链表，可以让我们在常数时间内进行上述操作。"
   ],
   "cell_type": "markdown",
   "metadata": {}
  },
  {
   "cell_type": "code",
   "execution_count": null,
   "metadata": {},
   "outputs": [],
   "source": []
  }
 ]
}